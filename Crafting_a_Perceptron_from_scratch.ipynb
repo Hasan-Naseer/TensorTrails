{
  "nbformat": 4,
  "nbformat_minor": 0,
  "metadata": {
    "colab": {
      "provenance": [],
      "authorship_tag": "ABX9TyMkCDofytPkptXCxyXrpbcS",
      "include_colab_link": true
    },
    "kernelspec": {
      "name": "python3",
      "display_name": "Python 3"
    },
    "language_info": {
      "name": "python"
    }
  },
  "cells": [
    {
      "cell_type": "markdown",
      "metadata": {
        "id": "view-in-github",
        "colab_type": "text"
      },
      "source": [
        "<a href=\"https://colab.research.google.com/github/Hasan-Naseer/TensorTrails/blob/main/Crafting_a_Perceptron_from_scratch.ipynb\" target=\"_parent\"><img src=\"https://colab.research.google.com/assets/colab-badge.svg\" alt=\"Open In Colab\"/></a>"
      ]
    },
    {
      "cell_type": "markdown",
      "source": [
        "# Using Vanilla Python to Implement a basic Perceptron from scratch"
      ],
      "metadata": {
        "id": "zoZG6sXXzasY"
      }
    },
    {
      "cell_type": "code",
      "source": [
        "#first element in vector x must be 1\n"
      ],
      "metadata": {
        "id": "5yxP_nS6zkvg"
      },
      "execution_count": null,
      "outputs": []
    }
  ]
}