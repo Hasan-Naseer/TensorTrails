{
  "nbformat": 4,
  "nbformat_minor": 0,
  "metadata": {
    "colab": {
      "provenance": [],
      "gpuType": "T4",
      "authorship_tag": "ABX9TyMfly+s3C8Dgd9ylxCpAqFa"
    },
    "kernelspec": {
      "name": "python3",
      "display_name": "Python 3"
    },
    "language_info": {
      "name": "python"
    },
    "accelerator": "GPU"
  },
  "cells": [
    {
      "cell_type": "markdown",
      "source": [
        "# Using Vanilla Python to Implement a basic Perceptron from scratch"
      ],
      "metadata": {
        "id": "zoZG6sXXzasY"
      }
    },
    {
      "cell_type": "markdown",
      "source": [
        "####Python Implementation of a Perceptron Function"
      ],
      "metadata": {
        "id": "Q-t7O8AtG62e"
      }
    },
    {
      "cell_type": "code",
      "source": [
        "#first element in vector/list x must be 1\n",
        "#length of w and x must be n+1 for neuron with n inputs. This is considering that the bias and its weight are not usually termed inputs but are nonetheless passed in the vector.\n",
        "\n",
        "def percept_output(w: list, x: list):\n",
        "  z = 0.0\n",
        "  for i in range(len(w)):\n",
        "    z = z + (w[i] * x[i]) # multply x with weight and aggregate sum in z\n",
        "  if z < 0:\n",
        "    return -1\n",
        "  else:\n",
        "    return 1\n"
      ],
      "metadata": {
        "id": "5yxP_nS6zkvg"
      },
      "execution_count": 19,
      "outputs": []
    },
    {
      "cell_type": "code",
      "source": [
        "#sample inputs\n",
        "w = [0.9, -0.6, -0.5]\n",
        "x = [1.0, -1.0, -1.0]\n",
        "percept_output(w, x)"
      ],
      "metadata": {
        "colab": {
          "base_uri": "https://localhost:8080/"
        },
        "id": "1kPibA6c2wIu",
        "outputId": "31ddeeb2-09f4-4df6-c3cf-7dc1928cabdc"
      },
      "execution_count": 11,
      "outputs": [
        {
          "output_type": "stream",
          "name": "stdout",
          "text": [
            "Z value:  2.0\n"
          ]
        },
        {
          "output_type": "execute_result",
          "data": {
            "text/plain": [
              "1"
            ]
          },
          "metadata": {},
          "execution_count": 11
        }
      ]
    },
    {
      "cell_type": "code",
      "source": [
        "#sample inputs\n",
        "w = [0.9, -0.6, -0.5]\n",
        "x = [1.0, -1.0, 1.0]\n",
        "percept_output(w, x)"
      ],
      "metadata": {
        "colab": {
          "base_uri": "https://localhost:8080/"
        },
        "id": "TqBfaO9VJ5c5",
        "outputId": "06fca697-2082-4ec9-8596-55e5d0008c0d"
      },
      "execution_count": 12,
      "outputs": [
        {
          "output_type": "stream",
          "name": "stdout",
          "text": [
            "Z value:  1.0\n"
          ]
        },
        {
          "output_type": "execute_result",
          "data": {
            "text/plain": [
              "1"
            ]
          },
          "metadata": {},
          "execution_count": 12
        }
      ]
    },
    {
      "cell_type": "code",
      "source": [
        "#sample inputs\n",
        "w = [0.9, -0.6, -0.5]\n",
        "x = [1.0, 1.0, -1.0]\n",
        "percept_output(w, x)"
      ],
      "metadata": {
        "colab": {
          "base_uri": "https://localhost:8080/"
        },
        "id": "XmSHKt66KdDX",
        "outputId": "e6e19a2e-0a0c-48a9-a464-8540cb141d21"
      },
      "execution_count": 13,
      "outputs": [
        {
          "output_type": "stream",
          "name": "stdout",
          "text": [
            "Z value:  0.8\n"
          ]
        },
        {
          "output_type": "execute_result",
          "data": {
            "text/plain": [
              "1"
            ]
          },
          "metadata": {},
          "execution_count": 13
        }
      ]
    },
    {
      "cell_type": "code",
      "source": [
        "#sample inputs\n",
        "w = [0.9, -0.6, -0.5]\n",
        "x = [1.0, 1.0, 1.0]\n",
        "percept_output(w, x)"
      ],
      "metadata": {
        "colab": {
          "base_uri": "https://localhost:8080/"
        },
        "id": "7hFueH8lKeyE",
        "outputId": "79e47e9e-c2d1-4b8b-ce12-985b305052b2"
      },
      "execution_count": 14,
      "outputs": [
        {
          "output_type": "stream",
          "name": "stdout",
          "text": [
            "Z value:  -0.19999999999999996\n"
          ]
        },
        {
          "output_type": "execute_result",
          "data": {
            "text/plain": [
              "-1"
            ]
          },
          "metadata": {},
          "execution_count": 14
        }
      ]
    },
    {
      "cell_type": "markdown",
      "source": [],
      "metadata": {
        "id": "0y5qQ8IGGKmf"
      }
    },
    {
      "cell_type": "markdown",
      "source": [
        "####The Perceptron Learning Allgorithm"
      ],
      "metadata": {
        "id": "KQ_a9hU3GSL_"
      }
    },
    {
      "cell_type": "code",
      "source": [
        "import random\n",
        "\n",
        "random.seed(7)\n",
        "\n",
        "def show_learning(w):\n",
        "  print('w0 =', '%5.2f' % w[0], ', w1 =', '%5.2f' % w[1], ', w2 =', '%5.2f' % w[2])"
      ],
      "metadata": {
        "id": "gQJ9BP4CKg4T"
      },
      "execution_count": 24,
      "outputs": []
    },
    {
      "cell_type": "code",
      "source": [
        "# learning rate\n",
        "LEARNING_RATE = 1\n",
        "\n",
        "# inputs\n",
        "x_train = [(1.0, -1.0, -1.0), (1.0, -1.0, 1.0), (1.0, 1.0, -1.0), (1.0, 1.0, 1.0)]\n",
        "\n",
        "# true outputs\n",
        "y_train = [1.0, 1.0, 1.0, -1.0]\n",
        "\n",
        "# weights array\n",
        "w = [0.5, 0.6, -0.3]\n",
        "\n",
        "# Training Loop\n",
        "# indices to iterate\n",
        "index_list = [0, 1, 2, 3]"
      ],
      "metadata": {
        "id": "MlVWK7lgf4cr"
      },
      "execution_count": 33,
      "outputs": []
    },
    {
      "cell_type": "markdown",
      "source": [
        "#####Training Loop"
      ],
      "metadata": {
        "id": "CQgKE1icoxn2"
      }
    },
    {
      "cell_type": "code",
      "source": [
        "# training loop\n",
        "all_correct = False\n",
        "while not all_correct:\n",
        "  all_correct = True\n",
        "\n",
        "  # shuffle indices to randomize\n",
        "  random.shuffle(index_list)\n",
        "  for i in index_list:\n",
        "    x = x_train[i]\n",
        "    y = y_train[i]\n",
        "\n",
        "    # compute perceptron output\n",
        "    p_out = percept_output(w, x)\n",
        "\n",
        "    # compare against ground truth\n",
        "    if y != p_out:\n",
        "      for j in range(0, len(w)):\n",
        "        w[j] += (y * LEARNING_RATE * x[j])\n",
        "      all_correct = False\n",
        "      show_learning(w)"
      ],
      "metadata": {
        "colab": {
          "base_uri": "https://localhost:8080/"
        },
        "id": "PxiUB10hlIxp",
        "outputId": "4b8a1d73-9255-4168-98c6-741071a88dec"
      },
      "execution_count": 34,
      "outputs": [
        {
          "output_type": "stream",
          "name": "stdout",
          "text": [
            "w0 =  1.50 , w1 = -0.40 , w2 =  0.70\n",
            "w0 =  0.50 , w1 = -1.40 , w2 = -0.30\n",
            "w0 =  1.50 , w1 = -0.40 , w2 = -1.30\n"
          ]
        }
      ]
    },
    {
      "cell_type": "code",
      "source": [
        "percept_output(w, [1.0, 1.0, -1.0])"
      ],
      "metadata": {
        "id": "3IB-xyMypCvB",
        "colab": {
          "base_uri": "https://localhost:8080/"
        },
        "outputId": "2c7e285c-18bb-4168-e8c4-5924a074e029"
      },
      "execution_count": 38,
      "outputs": [
        {
          "output_type": "execute_result",
          "data": {
            "text/plain": [
              "1"
            ]
          },
          "metadata": {},
          "execution_count": 38
        }
      ]
    },
    {
      "cell_type": "code",
      "source": [],
      "metadata": {
        "id": "eW7_LMgX54sR"
      },
      "execution_count": null,
      "outputs": []
    }
  ]
}