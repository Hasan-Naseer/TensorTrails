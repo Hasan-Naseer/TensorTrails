{
  "nbformat": 4,
  "nbformat_minor": 0,
  "metadata": {
    "colab": {
      "provenance": [],
      "authorship_tag": "ABX9TyMvl9IFl4JqRwoeWP+/JX1L",
      "include_colab_link": true
    },
    "kernelspec": {
      "name": "python3",
      "display_name": "Python 3"
    },
    "language_info": {
      "name": "python"
    }
  },
  "cells": [
    {
      "cell_type": "markdown",
      "metadata": {
        "id": "view-in-github",
        "colab_type": "text"
      },
      "source": [
        "<a href=\"https://colab.research.google.com/github/Hasan-Naseer/TensorTrails/blob/main/Crafting_a_Perceptron_from_scratch.ipynb\" target=\"_parent\"><img src=\"https://colab.research.google.com/assets/colab-badge.svg\" alt=\"Open In Colab\"/></a>"
      ]
    },
    {
      "cell_type": "markdown",
      "source": [
        "# Using Vanilla Python to Implement a basic Perceptron from scratch"
      ],
      "metadata": {
        "id": "zoZG6sXXzasY"
      }
    },
    {
      "cell_type": "code",
      "source": [
        "#first element in vector x must be 1\n",
        "x = 5"
      ],
      "metadata": {
        "id": "5yxP_nS6zkvg"
      },
      "execution_count": 1,
      "outputs": []
    },
    {
      "cell_type": "code",
      "source": [],
      "metadata": {
        "id": "1kPibA6c2wIu"
      },
      "execution_count": null,
      "outputs": []
    }
  ]
}