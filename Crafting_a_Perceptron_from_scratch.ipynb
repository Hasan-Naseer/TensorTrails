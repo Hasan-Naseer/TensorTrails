{
  "nbformat": 4,
  "nbformat_minor": 0,
  "metadata": {
    "colab": {
      "provenance": [],
      "gpuType": "T4",
      "authorship_tag": "ABX9TyPCgvn9WqNcb3OBJHSgdFrn"
    },
    "kernelspec": {
      "name": "python3",
      "display_name": "Python 3"
    },
    "language_info": {
      "name": "python"
    },
    "accelerator": "GPU"
  },
  "cells": [
    {
      "cell_type": "markdown",
      "source": [
        "# Using Vanilla Python to Implement a basic Perceptron from scratch"
      ],
      "metadata": {
        "id": "zoZG6sXXzasY"
      }
    },
    {
      "cell_type": "markdown",
      "source": [
        "####Python Implementation of a Perceptron Function"
      ],
      "metadata": {
        "id": "Q-t7O8AtG62e"
      }
    },
    {
      "cell_type": "code",
      "source": [
        "#first element in vector/list x must be 1\n",
        "#length of w and x must be n+1 for neuron with n inputs. This is considering that the bias and its weight are not usually termed inputs but are nonetheless passed in the vector.\n",
        "\n",
        "def compute_output(w: list, x: list):\n",
        "  x[0] = 1.0\n",
        "  z = 0.0\n",
        "  for i in range(len(w)):\n",
        "    z = z + (w[i] * x[i]) # multply x with weight and aggregate sum in z\n",
        "  print(\"Z value: \", z)\n",
        "  if z < 0:\n",
        "    return -1\n",
        "  else:\n",
        "    return 1\n"
      ],
      "metadata": {
        "id": "5yxP_nS6zkvg"
      },
      "execution_count": null,
      "outputs": []
    },
    {
      "cell_type": "code",
      "source": [
        "#sample inputs\n",
        "w = [0.9, -0.6, -0.5]\n",
        "x = [1.0, -1.0, -1.0]\n",
        "compute_output(w, x)"
      ],
      "metadata": {
        "colab": {
          "base_uri": "https://localhost:8080/"
        },
        "id": "1kPibA6c2wIu",
        "outputId": "35f5bd4b-d73a-446b-b7f0-53bd12628f1b"
      },
      "execution_count": null,
      "outputs": [
        {
          "output_type": "stream",
          "name": "stdout",
          "text": [
            "Z value:  2.0\n"
          ]
        },
        {
          "output_type": "execute_result",
          "data": {
            "text/plain": [
              "1"
            ]
          },
          "metadata": {},
          "execution_count": 12
        }
      ]
    },
    {
      "cell_type": "code",
      "source": [
        "#sample inputs\n",
        "w = [0.9, -0.6, -0.5]\n",
        "x = [1.0, -1.0, 1.0]\n",
        "compute_output(w, x)"
      ],
      "metadata": {
        "colab": {
          "base_uri": "https://localhost:8080/"
        },
        "id": "TqBfaO9VJ5c5",
        "outputId": "b4484dc3-4411-4c55-8233-5c384957cf8e"
      },
      "execution_count": null,
      "outputs": [
        {
          "output_type": "stream",
          "name": "stdout",
          "text": [
            "Z value:  1.0\n"
          ]
        },
        {
          "output_type": "execute_result",
          "data": {
            "text/plain": [
              "1"
            ]
          },
          "metadata": {},
          "execution_count": 13
        }
      ]
    },
    {
      "cell_type": "code",
      "source": [
        "#sample inputs\n",
        "w = [0.9, -0.6, -0.5]\n",
        "x = [1.0, 1.0, -1.0]\n",
        "compute_output(w, x)"
      ],
      "metadata": {
        "colab": {
          "base_uri": "https://localhost:8080/"
        },
        "id": "XmSHKt66KdDX",
        "outputId": "2cd7acb8-37a5-4f48-dbf6-d629bb8c6a7f"
      },
      "execution_count": null,
      "outputs": [
        {
          "output_type": "stream",
          "name": "stdout",
          "text": [
            "Z value:  0.8\n"
          ]
        },
        {
          "output_type": "execute_result",
          "data": {
            "text/plain": [
              "1"
            ]
          },
          "metadata": {},
          "execution_count": 14
        }
      ]
    },
    {
      "cell_type": "code",
      "source": [
        "#sample inputs\n",
        "w = [0.9, -0.6, -0.5]\n",
        "x = [1.0, 1.0, 1.0]\n",
        "compute_output(w, x)"
      ],
      "metadata": {
        "colab": {
          "base_uri": "https://localhost:8080/"
        },
        "id": "7hFueH8lKeyE",
        "outputId": "8d319797-3372-4452-a116-208700ee2e26"
      },
      "execution_count": null,
      "outputs": [
        {
          "output_type": "stream",
          "name": "stdout",
          "text": [
            "Z value:  -0.19999999999999996\n"
          ]
        },
        {
          "output_type": "execute_result",
          "data": {
            "text/plain": [
              "-1"
            ]
          },
          "metadata": {},
          "execution_count": 15
        }
      ]
    },
    {
      "cell_type": "code",
      "source": [],
      "metadata": {
        "id": "gQJ9BP4CKg4T"
      },
      "execution_count": null,
      "outputs": []
    }
  ]
}